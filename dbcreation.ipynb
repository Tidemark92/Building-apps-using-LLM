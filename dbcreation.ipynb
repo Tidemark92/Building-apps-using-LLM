{
 "cells": [
  {
   "cell_type": "code",
   "execution_count": 34,
   "id": "d77d2c13-457f-4a59-8ce4-39a3450fd429",
   "metadata": {},
   "outputs": [],
   "source": [
    "import sqlite3"
   ]
  },
  {
   "cell_type": "code",
   "execution_count": 121,
   "id": "547ad97e-3e96-449f-ac08-58772559e722",
   "metadata": {},
   "outputs": [],
   "source": [
    "#create a database connection\n",
    "conn = sqlite3.connect('LLM.db')"
   ]
  },
  {
   "cell_type": "code",
   "execution_count": 122,
   "id": "fac4900e-5c13-49aa-9ccc-8a33febff0d0",
   "metadata": {},
   "outputs": [],
   "source": [
    "#create a cursor object to excute sql commands\n",
    "cur = conn.cursor()"
   ]
  },
  {
   "cell_type": "code",
   "execution_count": 100,
   "id": "6fb4ccbc-ecc1-45a5-b917-e0127eae9e1c",
   "metadata": {},
   "outputs": [
    {
     "ename": "OperationalError",
     "evalue": "table 'stockTable' already exists",
     "output_type": "error",
     "traceback": [
      "\u001b[0;31m---------------------------------------------------------------------------\u001b[0m",
      "\u001b[0;31mOperationalError\u001b[0m                          Traceback (most recent call last)",
      "Cell \u001b[0;32mIn[100], line 2\u001b[0m\n\u001b[1;32m      1\u001b[0m \u001b[38;5;66;03m#create \"stokcTable\" table\u001b[39;00m\n\u001b[0;32m----> 2\u001b[0m \u001b[43mcur\u001b[49m\u001b[38;5;241;43m.\u001b[39;49m\u001b[43mexecute\u001b[49m\u001b[43m(\u001b[49m\u001b[38;5;124;43m'''\u001b[39;49m\n\u001b[1;32m      3\u001b[0m \u001b[38;5;124;43mCREATE TABLE \u001b[39;49m\u001b[38;5;124;43m'\u001b[39;49m\u001b[38;5;124;43mstockTable\u001b[39;49m\u001b[38;5;124;43m'\u001b[39;49m\u001b[38;5;124;43m (\u001b[39;49m\n\u001b[1;32m      4\u001b[0m \u001b[38;5;124;43m    ticker TEXT DEFAULT NULL,\u001b[39;49m\n\u001b[1;32m      5\u001b[0m \u001b[38;5;124;43m    created_at DATETIME DEFAULT NULL,\u001b[39;49m\n\u001b[1;32m      6\u001b[0m \u001b[38;5;124;43m    open REAL DEFAULT NULL,\u001b[39;49m\n\u001b[1;32m      7\u001b[0m \u001b[38;5;124;43m    high REAL DEFAULT NULL,\u001b[39;49m\n\u001b[1;32m      8\u001b[0m \u001b[38;5;124;43m    low REAL DEFAUL NULL,\u001b[39;49m\n\u001b[1;32m      9\u001b[0m \u001b[38;5;124;43m    close REAL DEFAULT NULL,\u001b[39;49m\n\u001b[1;32m     10\u001b[0m \u001b[38;5;124;43m    volume INTEGER DEFAULT NULL\u001b[39;49m\n\u001b[1;32m     11\u001b[0m \u001b[38;5;124;43m)\u001b[39;49m\n\u001b[1;32m     12\u001b[0m \u001b[38;5;124;43m'''\u001b[39;49m\u001b[43m)\u001b[49m\n",
      "\u001b[0;31mOperationalError\u001b[0m: table 'stockTable' already exists"
     ]
    }
   ],
   "source": [
    "#create \"stokcTable\" table\n",
    "cur.execute('''\n",
    "CREATE TABLE 'stockTable' (\n",
    "    ticker TEXT DEFAULT NULL,\n",
    "    created_at DATETIME DEFAULT NULL,\n",
    "    open REAL DEFAULT NULL,\n",
    "    high REAL DEFAULT NULL,\n",
    "    low REAL DEFAUL NULL,\n",
    "    close REAL DEFAULT NULL,\n",
    "    volume INTEGER DEFAULT NULL\n",
    ")\n",
    "''')"
   ]
  },
  {
   "cell_type": "code",
   "execution_count": 101,
   "id": "eeaa046c-6ad7-4aff-98a3-1773d225f58b",
   "metadata": {},
   "outputs": [
    {
     "ename": "OperationalError",
     "evalue": "table newsSentiment already exists",
     "output_type": "error",
     "traceback": [
      "\u001b[0;31m---------------------------------------------------------------------------\u001b[0m",
      "\u001b[0;31mOperationalError\u001b[0m                          Traceback (most recent call last)",
      "Cell \u001b[0;32mIn[101], line 3\u001b[0m\n\u001b[1;32m      1\u001b[0m \u001b[38;5;66;03m#create newssentiment table\u001b[39;00m\n\u001b[0;32m----> 3\u001b[0m \u001b[43mcur\u001b[49m\u001b[38;5;241;43m.\u001b[39;49m\u001b[43mexecute\u001b[49m\u001b[43m(\u001b[49m\u001b[38;5;124;43m'''\u001b[39;49m\n\u001b[1;32m      4\u001b[0m \u001b[38;5;124;43mCREATE TABLE newsSentiment(\u001b[39;49m\n\u001b[1;32m      5\u001b[0m \u001b[38;5;124;43m    title TEXT,\u001b[39;49m\n\u001b[1;32m      6\u001b[0m \u001b[38;5;124;43m    url TEXT,\u001b[39;49m\n\u001b[1;32m      7\u001b[0m \u001b[38;5;124;43m    time_published DATETIME,\u001b[39;49m\n\u001b[1;32m      8\u001b[0m \u001b[38;5;124;43m    authors TEXT,\u001b[39;49m\n\u001b[1;32m      9\u001b[0m \u001b[38;5;124;43m    summary TEXT,\u001b[39;49m\n\u001b[1;32m     10\u001b[0m \u001b[38;5;124;43m    banner_image TEXT,\u001b[39;49m\n\u001b[1;32m     11\u001b[0m \u001b[38;5;124;43m    source TEXT,\u001b[39;49m\n\u001b[1;32m     12\u001b[0m \u001b[38;5;124;43m    category_within_source TEXT,\u001b[39;49m\n\u001b[1;32m     13\u001b[0m \u001b[38;5;124;43m    source_domain TEXT\u001b[39;49m\n\u001b[1;32m     14\u001b[0m \u001b[38;5;124;43m    topic TEXT,\u001b[39;49m\n\u001b[1;32m     15\u001b[0m \u001b[38;5;124;43m    topic_relevance_score TEXT,\u001b[39;49m\n\u001b[1;32m     16\u001b[0m \u001b[38;5;124;43m    overall_sentiment_score REAL,\u001b[39;49m\n\u001b[1;32m     17\u001b[0m \u001b[38;5;124;43m    overall_sentiment_label TEXT\u001b[39;49m\n\u001b[1;32m     18\u001b[0m \u001b[38;5;124;43m)\u001b[39;49m\n\u001b[1;32m     19\u001b[0m \u001b[38;5;124;43m'''\u001b[39;49m\u001b[43m)\u001b[49m\n",
      "\u001b[0;31mOperationalError\u001b[0m: table newsSentiment already exists"
     ]
    }
   ],
   "source": [
    "#create newssentiment table\n",
    "\n",
    "cur.execute('''\n",
    "CREATE TABLE newsSentiment(\n",
    "    title TEXT,\n",
    "    url TEXT,\n",
    "    time_published DATETIME,\n",
    "    authors TEXT,\n",
    "    summary TEXT,\n",
    "    banner_image TEXT,\n",
    "    source TEXT,\n",
    "    category_within_source TEXT,\n",
    "    source_domain TEXT\n",
    "    topic TEXT,\n",
    "    topic_relevance_score TEXT,\n",
    "    overall_sentiment_score REAL,\n",
    "    overall_sentiment_label TEXT\n",
    ")\n",
    "''')"
   ]
  },
  {
   "cell_type": "code",
   "execution_count": 123,
   "id": "85de9949-7e96-44c9-b20c-27c260f3e117",
   "metadata": {},
   "outputs": [
    {
     "data": {
      "text/plain": [
       "<sqlite3.Cursor at 0x13a017040>"
      ]
     },
     "execution_count": 123,
     "metadata": {},
     "output_type": "execute_result"
    }
   ],
   "source": [
    "cur.execute(\"DROP TABLE IF EXISTS companyinfo\")"
   ]
  },
  {
   "cell_type": "code",
   "execution_count": 124,
   "id": "eec90b68-e85e-48e9-bc94-926dd99d8aaa",
   "metadata": {},
   "outputs": [
    {
     "data": {
      "text/plain": [
       "<sqlite3.Cursor at 0x13a017040>"
      ]
     },
     "execution_count": 124,
     "metadata": {},
     "output_type": "execute_result"
    }
   ],
   "source": [
    "#create companyinfo table\n",
    "\n",
    "cur.execute('''\n",
    "CREATE TABLE companyinfo(\n",
    "ticker TEXT PRIMARY KEY,\n",
    "AssetType TEXT,\n",
    "Name TEXT,\n",
    "Description TEXT,\n",
    "CIK TEXT,\n",
    "Exchange TEXT,\n",
    "Currency TEXT,\n",
    "Country TEXT,\n",
    "Sector TEXT,\n",
    "Industry TEXT,\n",
    "Address TEXT,\n",
    "FiscalYearEnd TEXT,\n",
    "LatestQuarter DATE,\n",
    "MarketCapitalization INTEGER,\n",
    "EBITDA INTEGER,\n",
    "PERatio REAL,\n",
    "PEGRatio REAL,\n",
    "BookValue REAL,\n",
    "DividendPerShare REAL,\n",
    "DividendYield REAL,\n",
    "EPS REAL,\n",
    "RevenuePerShareTTM REAL,\n",
    "ProfitMargin REAL,\n",
    "OperatingMarginTTM REAL,\n",
    "ReturnOnAssetsTTM REAL,\n",
    "ReturnOnEquityTTM REAL,\n",
    "RevenueTTM INTEGER,\n",
    "GrossProfitTTM INTEGER,\n",
    "DilutedEPSTTM REAL,\n",
    "QuarterlyEarningsGrowthYOY REAL,\n",
    "QuarterlyRevenueGrowthYOY REAL,\n",
    "AnalystTargetPrice REAL,\n",
    "TrailingPE REAL,\n",
    "ForwardPE REAL,\n",
    "PriceToSalesRatioTTM REAL,\n",
    "PriceToBookRatio REAL,\n",
    "EVToRevenue REAL,\n",
    "EVToEBITDA REAL,\n",
    "Beta REAL,\n",
    "\"52WeekHigh\" REAL,\n",
    "\"52WeekLow\" REAL,\n",
    "\"50DayMovingAverage\" REAL,\n",
    "\"200DayMovingAverage\" REAL,\n",
    "SharesOutstanding INTEGER,\n",
    "DividendDate DATE,\n",
    "ExDividendDate DATE\n",
    ")\n",
    "'''\n",
    ")"
   ]
  },
  {
   "cell_type": "code",
   "execution_count": 125,
   "id": "e2e02dcd-b779-4c36-bc32-c2dd13d807a7",
   "metadata": {},
   "outputs": [
    {
     "name": "stdout",
     "output_type": "stream",
     "text": [
      "(0, 'ticker', 'TEXT', 0, None, 1)\n",
      "(1, 'AssetType', 'TEXT', 0, None, 0)\n",
      "(2, 'Name', 'TEXT', 0, None, 0)\n",
      "(3, 'Description', 'TEXT', 0, None, 0)\n",
      "(4, 'CIK', 'TEXT', 0, None, 0)\n",
      "(5, 'Exchange', 'TEXT', 0, None, 0)\n",
      "(6, 'Currency', 'TEXT', 0, None, 0)\n",
      "(7, 'Country', 'TEXT', 0, None, 0)\n",
      "(8, 'Sector', 'TEXT', 0, None, 0)\n",
      "(9, 'Industry', 'TEXT', 0, None, 0)\n",
      "(10, 'Address', 'TEXT', 0, None, 0)\n",
      "(11, 'FiscalYearEnd', 'TEXT', 0, None, 0)\n",
      "(12, 'LatestQuarter', 'DATE', 0, None, 0)\n",
      "(13, 'MarketCapitalization', 'INTEGER', 0, None, 0)\n",
      "(14, 'EBITDA', 'INTEGER', 0, None, 0)\n",
      "(15, 'PERatio', 'REAL', 0, None, 0)\n",
      "(16, 'PEGRatio', 'REAL', 0, None, 0)\n",
      "(17, 'BookValue', 'REAL', 0, None, 0)\n",
      "(18, 'DividendPerShare', 'REAL', 0, None, 0)\n",
      "(19, 'DividendYield', 'REAL', 0, None, 0)\n",
      "(20, 'EPS', 'REAL', 0, None, 0)\n",
      "(21, 'RevenuePerShareTTM', 'REAL', 0, None, 0)\n",
      "(22, 'ProfitMargin', 'REAL', 0, None, 0)\n",
      "(23, 'OperatingMarginTTM', 'REAL', 0, None, 0)\n",
      "(24, 'ReturnOnAssetsTTM', 'REAL', 0, None, 0)\n",
      "(25, 'ReturnOnEquityTTM', 'REAL', 0, None, 0)\n",
      "(26, 'RevenueTTM', 'INTEGER', 0, None, 0)\n",
      "(27, 'GrossProfitTTM', 'INTEGER', 0, None, 0)\n",
      "(28, 'DilutedEPSTTM', 'REAL', 0, None, 0)\n",
      "(29, 'QuarterlyEarningsGrowthYOY', 'REAL', 0, None, 0)\n",
      "(30, 'QuarterlyRevenueGrowthYOY', 'REAL', 0, None, 0)\n",
      "(31, 'AnalystTargetPrice', 'REAL', 0, None, 0)\n",
      "(32, 'TrailingPE', 'REAL', 0, None, 0)\n",
      "(33, 'ForwardPE', 'REAL', 0, None, 0)\n",
      "(34, 'PriceToSalesRatioTTM', 'REAL', 0, None, 0)\n",
      "(35, 'PriceToBookRatio', 'REAL', 0, None, 0)\n",
      "(36, 'EVToRevenue', 'REAL', 0, None, 0)\n",
      "(37, 'EVToEBITDA', 'REAL', 0, None, 0)\n",
      "(38, 'Beta', 'REAL', 0, None, 0)\n",
      "(39, '52WeekHigh', 'REAL', 0, None, 0)\n",
      "(40, '52WeekLow', 'REAL', 0, None, 0)\n",
      "(41, '50DayMovingAverage', 'REAL', 0, None, 0)\n",
      "(42, '200DayMovingAverage', 'REAL', 0, None, 0)\n",
      "(43, 'SharesOutstanding', 'INTEGER', 0, None, 0)\n",
      "(44, 'DividendDate', 'DATE', 0, None, 0)\n",
      "(45, 'ExDividendDate', 'DATE', 0, None, 0)\n"
     ]
    }
   ],
   "source": [
    "cur.execute(\"PRAGMA table_info(companyinfo)\")\n",
    "columns = cur.fetchall()\n",
    "for column in columns:\n",
    "    print(column)"
   ]
  },
  {
   "cell_type": "code",
   "execution_count": 115,
   "id": "2fae9a04-aedf-4cff-8557-97693e261700",
   "metadata": {},
   "outputs": [
    {
     "ename": "OperationalError",
     "evalue": "table embeddings already exists",
     "output_type": "error",
     "traceback": [
      "\u001b[0;31m---------------------------------------------------------------------------\u001b[0m",
      "\u001b[0;31mOperationalError\u001b[0m                          Traceback (most recent call last)",
      "Cell \u001b[0;32mIn[115], line 3\u001b[0m\n\u001b[1;32m      1\u001b[0m \u001b[38;5;66;03m#create embeddings table\u001b[39;00m\n\u001b[0;32m----> 3\u001b[0m \u001b[43mcur\u001b[49m\u001b[38;5;241;43m.\u001b[39;49m\u001b[43mexecute\u001b[49m\u001b[43m(\u001b[49m\u001b[38;5;124;43m'''\u001b[39;49m\n\u001b[1;32m      4\u001b[0m \u001b[38;5;124;43mCREATE TABLE embeddings (\u001b[39;49m\n\u001b[1;32m      5\u001b[0m \u001b[38;5;124;43m    id INTEGER PRIMARY KEY AUTOINCREMENT,\u001b[39;49m\n\u001b[1;32m      6\u001b[0m \u001b[38;5;124;43m    category TEXT,\u001b[39;49m\n\u001b[1;32m      7\u001b[0m \u001b[38;5;124;43m    question TEXT,\u001b[39;49m\n\u001b[1;32m      8\u001b[0m \u001b[38;5;124;43m    question_embedding BLOB,\u001b[39;49m\n\u001b[1;32m      9\u001b[0m \u001b[38;5;124;43m    answer TEXT,\u001b[39;49m\n\u001b[1;32m     10\u001b[0m \u001b[38;5;124;43m    answer_embedding BLOB,\u001b[39;49m\n\u001b[1;32m     11\u001b[0m \u001b[38;5;124;43m    created_at DATETIME DEFAULT CURRENT_TIMESTAMP\u001b[39;49m\n\u001b[1;32m     12\u001b[0m \u001b[38;5;124;43m)\u001b[39;49m\n\u001b[1;32m     13\u001b[0m \u001b[38;5;124;43m'''\u001b[39;49m\u001b[43m)\u001b[49m\n",
      "\u001b[0;31mOperationalError\u001b[0m: table embeddings already exists"
     ]
    }
   ],
   "source": [
    "#create embeddings table\n",
    "\n",
    "cur.execute('''\n",
    "CREATE TABLE embeddings (\n",
    "    id INTEGER PRIMARY KEY AUTOINCREMENT,\n",
    "    category TEXT,\n",
    "    question TEXT,\n",
    "    question_embedding BLOB,\n",
    "    answer TEXT,\n",
    "    answer_embedding BLOB,\n",
    "    created_at DATETIME DEFAULT CURRENT_TIMESTAMP\n",
    ")\n",
    "''')"
   ]
  },
  {
   "cell_type": "code",
   "execution_count": 116,
   "id": "d95a3326-31b2-4c89-8bba-d9ca00d9b836",
   "metadata": {},
   "outputs": [
    {
     "data": {
      "text/plain": [
       "<sqlite3.Cursor at 0x12a463cc0>"
      ]
     },
     "execution_count": 116,
     "metadata": {},
     "output_type": "execute_result"
    }
   ],
   "source": [
    "cur.execute('''\n",
    "SELECT name FROM sqlite_master WHERE type='table';\n",
    "''')"
   ]
  },
  {
   "cell_type": "code",
   "execution_count": 117,
   "id": "bb11e55e-c6df-4d19-b79c-4c891370811d",
   "metadata": {},
   "outputs": [
    {
     "name": "stdout",
     "output_type": "stream",
     "text": [
      "stockTable\n",
      "newsSentiment\n",
      "embeddings\n",
      "sqlite_sequence\n",
      "companyinfo\n"
     ]
    }
   ],
   "source": [
    "tables = cur.fetchall()\n",
    "for table in tables:\n",
    "    print(table[0])"
   ]
  },
  {
   "cell_type": "code",
   "execution_count": 126,
   "id": "e8a6b983-7eea-4049-a45e-8129a3da6173",
   "metadata": {},
   "outputs": [],
   "source": [
    "cur.close()"
   ]
  },
  {
   "cell_type": "code",
   "execution_count": 127,
   "id": "bf7be943-592a-48c2-a3fc-3c3d6a0d011a",
   "metadata": {},
   "outputs": [],
   "source": [
    "conn.close()"
   ]
  },
  {
   "cell_type": "code",
   "execution_count": 45,
   "id": "d9f203dd-46e8-4052-9de7-5ff4dab994cd",
   "metadata": {},
   "outputs": [],
   "source": [
    "#import packages\n",
    "import datetime\n",
    "import getpass\n",
    "import numpy as np\n",
    "import openai\n",
    "import requests\n",
    "import time"
   ]
  },
  {
   "cell_type": "code",
   "execution_count": 46,
   "id": "8379115e-bc21-4d54-990c-c7d4c4b0864b",
   "metadata": {},
   "outputs": [],
   "source": [
    "from datetime import datetime\n",
    "from datetime import timedelta\n",
    "from dateutil.relativedelta import relativedelta\n",
    "from langchain.sql_database import SQLDatabase\n",
    "from langchain.llms.openai import OpenAI\n",
    "from langchain.agents.agent_toolkits import SQLDatabaseToolkit\n",
    "from langchain.agents import create_sql_agent\n",
    "#from openai.embeddings_utils import get_embeddings"
   ]
  },
  {
   "cell_type": "code",
   "execution_count": 47,
   "id": "a5cd3aeb-e2bd-4a2d-ba0d-22148fe1ec63",
   "metadata": {},
   "outputs": [],
   "source": [
    "#define the get_embeddings functions\n",
    "\n",
    "def get_embeddings(text, model=\"text-embedding-3-small\"):\n",
    "    text = text.repalce(\"\\n\", \"\")\n",
    "    return llm.embeddings.create(input = [text], model=model).data[0].emdedding"
   ]
  },
  {
   "cell_type": "code",
   "execution_count": 60,
   "id": "b78d5b22-679e-4a38-8331-b6c730f62868",
   "metadata": {},
   "outputs": [
    {
     "name": "stdin",
     "output_type": "stream",
     "text": [
      "enter alphavantage apikey here ········\n",
      "enter openai apikey here ········\n",
      "enter elevenlabs apikey here ········\n"
     ]
    }
   ],
   "source": [
    "#set api keys\n",
    "\n",
    "alpha_vantage_apikey = getpass.getpass(\"enter alphavantage apikey here\")\n",
    "openai_apikey = getpass.getpass(\"enter openai apikey here\")\n",
    "elevenlabs_apikey = getpass.getpass(\"enter elevenlabs apikey here\")"
   ]
  },
  {
   "cell_type": "code",
   "execution_count": 62,
   "id": "f8399ec5-9910-4586-b2ce-9db43f7830a8",
   "metadata": {},
   "outputs": [],
   "source": [
    "#set up the connection to some data store and the ticker list\n",
    "ticker_list=['TSLA', 'AMZN', 'PLTR']\n",
    "conn = sqlite3.connect('LLM.db')"
   ]
  },
  {
   "cell_type": "code",
   "execution_count": 63,
   "id": "1784c325-1e7e-4109-89a5-3f0105663129",
   "metadata": {},
   "outputs": [
    {
     "name": "stdout",
     "output_type": "stream",
     "text": [
      "['2024-06', '2024-05']\n"
     ]
    }
   ],
   "source": [
    "def get_past_months(num_months):\n",
    "    today = datetime.today()\n",
    "    months = []\n",
    "\n",
    "    for months_ago in range(0, num_months):\n",
    "        target_date = today - relativedelta(months=months_ago)\n",
    "        months.append(target_date.strftime('%Y-%m'))\n",
    "\n",
    "    return months\n",
    "\n",
    "#set the number of months\n",
    "\n",
    "num_months = 2\n",
    "year_month_last = get_past_months(num_months)\n",
    "print(year_month_last)"
   ]
  },
  {
   "cell_type": "code",
   "execution_count": 70,
   "id": "8b5c3b13-67db-4664-a702-414f070a4227",
   "metadata": {},
   "outputs": [
    {
     "name": "stdout",
     "output_type": "stream",
     "text": [
      "TSLA\n",
      "2024-06\n",
      "2024-05\n",
      "AMZN\n",
      "2024-06\n",
      "2024-05\n",
      "PLTR\n",
      "2024-06\n",
      "2024-05\n"
     ]
    }
   ],
   "source": [
    "#pull intraday info for each stock and store it into some database\n",
    "\n",
    "for ticker in ticker_list:\n",
    "    print(ticker)\n",
    "    data_list = []\n",
    "    for year_month in year_month_last:\n",
    "        print(year_month)\n",
    "\n",
    "        intraday_price_url = \"https://www.alphavantage.co/query?function=TIME_SERIES_INTRADAY&symbol={}&interval=5min&month={}outputsize=full&apikey={}\".format(ticker, year_month, alpha_vantage_apikey)\n",
    "\n",
    "        r = requests.get(intraday_price_url)\n",
    "\n",
    "        try:\n",
    "            data = r.json()['Time Series (5min)']\n",
    "        except:\n",
    "            time.sleep(1)\n",
    "            continue\n",
    "\n",
    "        for key in data:\n",
    "            document = data[key]\n",
    "            document['datetime'] = key\n",
    "            document['ticker'] = ticker\n",
    "\n",
    "            document['open'] = document['1. open']\n",
    "            document['high'] = document['2. high']\n",
    "            document['low'] = document['3. low']\n",
    "            document['close'] = document['4. close']\n",
    "            document['volume'] = document['5. volume']\n",
    "\n",
    "            document['open'] = float(document['open'])\n",
    "            document['high'] = float(document['high'])\n",
    "            document['low'] = float(document['low'])\n",
    "            document['close'] = float(document['close'])\n",
    "            document['volume'] = int(document['volume'])\n",
    "\n",
    "            del document['1. open']\n",
    "            del document['2. high']\n",
    "            del document['3. low']\n",
    "            del document['4. close']\n",
    "            del document['5. volume']\n",
    "\n",
    "            data_list += [document]\n",
    "\n",
    "            #inside the loop, create the params dictionary with the correct values\n",
    "            params = {\n",
    "                'datetime': document['datetime'],\n",
    "                'ticker': ticker,\n",
    "                'open': document['open'],\n",
    "                'high': document['high'],\n",
    "                'low': document['low'],\n",
    "                'close': document['close'],\n",
    "                'volume': document['volume']\n",
    "            }\n",
    "\n",
    "            #construct and execute the sql statement\n",
    "            table_name = 'stockTable'\n",
    "            stmt = f\"INSERT INTO {table_name} (created_at, ticker, open, high, low, close, volume) VALUES (:datetime, :ticker, :open, :high, :low, :close, :volume)\"\n",
    "\n",
    "            try:\n",
    "                cur = conn.cursor()\n",
    "                cur.execute(stmt, params)\n",
    "            finally:\n",
    "                cur.close()\n",
    "\n",
    "            time.sleep(1) #required to not hit api limits"
   ]
  },
  {
   "cell_type": "code",
   "execution_count": 72,
   "id": "21022171-ccd2-4452-8511-46cebe640d95",
   "metadata": {},
   "outputs": [
    {
     "data": {
      "text/plain": [
       "<sqlite3.Cursor at 0x12a4e2640>"
      ]
     },
     "execution_count": 72,
     "metadata": {},
     "output_type": "execute_result"
    }
   ],
   "source": [
    "conn = sqlite3.connect('LLM.db')\n",
    "cur = conn.cursor()\n",
    "cur.execute('''\n",
    "SELECT COUNT(*) FROM stockTable\n",
    "''')"
   ]
  },
  {
   "cell_type": "code",
   "execution_count": 74,
   "id": "a845b66c-50cb-4740-9794-f3d74df91755",
   "metadata": {},
   "outputs": [],
   "source": [
    "cur.close()"
   ]
  },
  {
   "cell_type": "code",
   "execution_count": 75,
   "id": "89c6c870-50da-45d2-82f6-45583fe8c124",
   "metadata": {},
   "outputs": [],
   "source": [
    "conn.close()"
   ]
  },
  {
   "cell_type": "code",
   "execution_count": 130,
   "id": "47bcab29-732a-478d-b11c-5a8facce3fdc",
   "metadata": {},
   "outputs": [
    {
     "name": "stdout",
     "output_type": "stream",
     "text": [
      "TSLA\n",
      "AMZN\n",
      "PLTR\n"
     ]
    }
   ],
   "source": [
    "#bring in company data\n",
    "\n",
    "#pull intraday data for each stock and write to LLM.db\n",
    "\n",
    "for ticker in ticker_list:\n",
    "    print(ticker)\n",
    "    data_list = []\n",
    "\n",
    "    company_overview = \"https://www.alphavantage.co/query?function=OVERVIEW&symbol={}&outputsize=full&apikey={}\".format(ticker, alpha_vantage_apikey)\n",
    "    r = requests.get(company_overview)\n",
    "\n",
    "    try:\n",
    "        data = r.json()\n",
    "    except:\n",
    "        time.sleep(3)\n",
    "        continue\n",
    "\n",
    "    data['CIK'] = int(data['CIK'])\n",
    "    data['MarketCapitalization'] = float(data['MarketCapitalization'])\n",
    "    \n",
    "    #assume data['EBITDA'] is a string containing 'None'\n",
    "    ebitda_str = data['EBITDA']\n",
    "\n",
    "    #handle the case where EBITDA is 'None'\n",
    "    if ebitda_str.lower() == 'none':\n",
    "        data['EBITDA'] = 0.0\n",
    "    else:\n",
    "        data['EBITDA'] = float(ebitda_str)\n",
    "\n",
    "    PERatio_flt = data['PERatio']\n",
    "\n",
    "    #handle the case where data['PERatio'] is '-'\n",
    "    if PERatio_flt == '-':\n",
    "        data['PERatio'] = 0.0\n",
    "    else:\n",
    "        data['PERatio'] = float(PERatio_flt)\n",
    "\n",
    "    data['PEGRatio'] = float(data['PEGRatio'])\n",
    "    data['BookValue'] = float(data['BookValue'])\n",
    "\n",
    "    #assume data['DividendPerShare'] is a string containing 'None'\n",
    "    dividend_per_share_str = data['DividendPerShare']\n",
    "    if dividend_per_share_str.lower() == 'none':\n",
    "        data['DividendPerShare'] = 0.0\n",
    "    else:\n",
    "        data['DividendPerShare'] = float(dividend_per_share_str)\n",
    "    #data['DividendPerShare'] = float(data['DividendPerShare'])\n",
    "    \n",
    "    #assume data['DividendYield'] is a string containing 'None'\n",
    "    dividend_yield_str = data['DividendYield']\n",
    "    if dividend_yield_str.lower() == 'none':\n",
    "        data['DividendYield'] = 0.0\n",
    "    else:\n",
    "        data['DividendYield'] = float(dividend_yield)\n",
    "    #data['DividendYield'] = float(data['DividendYield'])\n",
    "    \n",
    "    data['EPS'] = float(data['EPS'])\n",
    "    data['RevenuePerShareTTM'] = float(data['RevenuePerShareTTM'])\n",
    "    data['ProfitMargin'] = float(data['ProfitMargin'])\n",
    "    data['OperatingMarginTTM'] = float(data['OperatingMarginTTM'])\n",
    "    data['ReturnOnEquityTTM'] = float(data['ReturnOnEquityTTM'])\n",
    "    data['ReturnOnAssetsTTM'] = float(data['ReturnOnAssetsTTM'])\n",
    "    data['RevenueTTM'] = int(data['RevenueTTM'])\n",
    "    data['GrossProfitTTM'] = int(data['GrossProfitTTM'])\n",
    "    data['DilutedEPSTTM'] = float(data['DilutedEPSTTM'])\n",
    "    data['QuarterlyEarningsGrowthYOY'] = float(data['QuarterlyEarningsGrowthYOY'])\n",
    "    data['QuarterlyRevenueGrowthYOY'] = float(data['QuarterlyRevenueGrowthYOY'])\n",
    "    data['AnalystTargetPrice'] = float(data['AnalystTargetPrice'])\n",
    "\n",
    "    #assuming data['TrailingPE'] is a string containing '-'\n",
    "    trailing_pe_str = data['TrailingPE']\n",
    "    if trailing_pe_str == '-':\n",
    "        data['TrailingPE'] = 0.0\n",
    "    else:\n",
    "        try:\n",
    "            data['TrailingPE'] = float(trailing_pe_str)\n",
    "        except ValueError:\n",
    "            data['TrailingPE'] = 0.0\n",
    "\n",
    "    data['ForwardPE'] = float(data['ForwardPE'])\n",
    "    data['PriceToSalesRatioTTM'] = float(data['PriceToSalesRatioTTM'])\n",
    "\n",
    "    #assume that data['PriceToBookRatio'] is a string containing '-'\n",
    "    price_to_book_ratio_flt = data['PriceToBookRatio']\n",
    "    if price_to_book_ratio_flt == '-':\n",
    "        data['PriceToBookRatio'] = 0.0\n",
    "    else:\n",
    "        data['PriceToBookRatio'] = float(price_to_book_ratio_flt)\n",
    "\n",
    "    #assume that data['EVToRevenue'] is a string containing '-'\n",
    "    ev_to_revenue_str = data['EVToRevenue']\n",
    "    if ev_to_revenue_str == '-':\n",
    "        data['EVToRevenue'] = 0.0\n",
    "    else:\n",
    "        data['EVToRevenue'] = float(ev_to_revenue_str)\n",
    "\n",
    "    #assume data['EVToEBITDA'] is a string containing '-'\n",
    "    ev_to_ebitda_str = data['EVToEBITDA']\n",
    "    if ev_to_ebitda_str == '-':\n",
    "        data['EVToEBITDA'] = 0.0\n",
    "    else:\n",
    "        data['EVToEBITDA'] = float(ev_to_ebitda_str)\n",
    "\n",
    "    data['Beta'] = float(data['Beta'])\n",
    "    data['52WeekHigh'] = float(data['52WeekHigh'])\n",
    "    data['52WeekLow'] = float(data['52WeekLow'])\n",
    "    data['50DayMovingAverage'] = float(data['50DayMovingAverage'])\n",
    "    data['200DayMovingAverage'] = float(data['200DayMovingAverage'])\n",
    "    data['SharesOutstanding'] = int(data['SharesOutstanding'])\n",
    "\n",
    "    #assume that data['DividendDate'] is a date possible to be 'None'\n",
    "    dividend_date_str = data['DividendDate']\n",
    "    if dividend_date_str == 'None':\n",
    "        data['DividendDate'] = '9999-12-31'\n",
    "    else:\n",
    "        data['DividendDate'] = str(dividend_date_str)\n",
    "\n",
    "    #assume that data['ExDividendDate'] is a date possible to be 'None'\n",
    "    ex_dividend_date_str = data['ExDividendDate']\n",
    "    if ex_dividend_date_str == 'None':\n",
    "        data['ExDividendDate'] = '9999-12-31'\n",
    "    else:\n",
    "        data['ExDividendDate'] = str(data['ExDividendDate'])\n",
    "\n",
    "    data_list += [data]\n",
    "\n",
    "    #inside the loop, create the params dictionary with the correct values\n",
    "    params = {\n",
    "                'Symbol': data['Symbol'],\n",
    "                'AssetType': data['AssetType'],\n",
    "                'Name': data['Name'],\n",
    "                'Description': data['Description'],\n",
    "                'CIK': data['CIK'],\n",
    "                'Exchange': data['Exchange'],\n",
    "                'Currency': data['Currency'],\n",
    "                'Country': data['Country'],\n",
    "                'Sector': data['Sector'],\n",
    "                'Industry': data['Industry'],\n",
    "                'Address': data['Address'],\n",
    "                'FiscalYearEnd': data['FiscalYearEnd'],\n",
    "                'LatestQuarter': data['LatestQuarter'],\n",
    "                'MarketCapitalization': data['MarketCapitalization'],\n",
    "                'EBITDA': data['EBITDA'],\n",
    "                'PERatio': data['PERatio'],\n",
    "                'PEGRatio': data['PEGRatio'],\n",
    "                'BookValue': data['BookValue'],\n",
    "                'DividendPerShare': data['DividendPerShare'],\n",
    "                'DividendYield': data['DividendYield'],\n",
    "                'EPS': data['EPS'],\n",
    "                'RevenuePerShareTTM': data['RevenuePerShareTTM'],\n",
    "                'ProfitMargin': data['ProfitMargin'],\n",
    "                'OperatingMarginTTM': data['OperatingMarginTTM'],\n",
    "                'ReturnOnAssetsTTM': data['ReturnOnAssetsTTM'],\n",
    "                'ReturnOnEquityTTM': data['ReturnOnEquityTTM'],\n",
    "                'RevenueTTM': data['RevenueTTM'],\n",
    "                'GrossProfitTTM': data['GrossProfitTTM'],\n",
    "                'DilutedEPSTTM': data['DilutedEPSTTM'],\n",
    "                'QuarterlyEarningsGrowthYOY': data['QuarterlyEarningsGrowthYOY'],\n",
    "                'QuarterlyRevenueGrowthYOY': data['QuarterlyRevenueGrowthYOY'],\n",
    "                'AnalystTargetPrice': data['AnalystTargetPrice'],\n",
    "                'TrailingPE': data['TrailingPE'],\n",
    "                'ForwardPE': data['ForwardPE'],\n",
    "                'PriceToSalesRatioTTM': data['PriceToSalesRatioTTM'],\n",
    "                'PriceToBookRatio': data['PriceToBookRatio'],\n",
    "                'EVToRevenue': data['EVToRevenue'],\n",
    "                'EVToEBITDA': data['EVToEBITDA'],\n",
    "                'Beta': data['Beta'],\n",
    "                '52WeekHigh': data['52WeekHigh'],\n",
    "                '52WeekLow': data['52WeekLow'],\n",
    "                '50DayMovingAverage': data['50DayMovingAverage'],\n",
    "                '200DayMovingAverage': data['200DayMovingAverage'],\n",
    "                'SharesOutstanding': data['SharesOutstanding'],\n",
    "                'DividendDate': data['DividendDate'],\n",
    "                'ExDividendDate': data['ExDividendDate']\n",
    "    }\n",
    "\n",
    "    #construct and execute the sql statement\n",
    "    table_name = 'companyinfo'\n",
    "    stmt = f\"INSERT INTO {table_name} (ticker, AssetType, Name, Description, CIK, Exchange, Currency, Country, Sector, Industry, Address, FiscalYearEnd, LatestQuarter, MarketCapitalization, EBITDA, PERatio, PEGRatio, BookValue, DividendPerShare, DividendYield, EPS, RevenuePerShareTTM, ProfitMargin, OperatingMarginTTM, ReturnOnAssetsTTM, ReturnOnEquityTTM, RevenueTTM, GrossProfitTTM, DilutedEPSTTM, QuarterlyEarningsGrowthYOY, QuarterlyRevenueGrowthYOY, AnalystTargetPrice, TrailingPE, ForwardPE, PriceToSalesRatioTTM, PriceToBookRatio, EVToRevenue, EVToEBITDA, Beta, '52WeekHigh', '52WeekLow', '50DayMovingAverage', '200DayMovingAverage', SharesOutstanding, DividendDate, ExDividendDate) VALUES (:Symbol, :AssetType, :Name, :Description, :CIK, :Exchange, :Currency, :Country, :Sector, :Industry, :Address, :FiscalYearEnd, :LatestQuarter, :MarketCapitalization, :EBITDA, :PERatio, :PEGRatio, :BookValue, :DividendPerShare, :DividendYield, :EPS, :RevenuePerShareTTM, :ProfitMargin, :OperatingMarginTTM, :ReturnOnAssetsTTM, :ReturnOnEquityTTM, :RevenueTTM, :GrossProfitTTM, :DilutedEPSTTM, :QuarterlyEarningsGrowthYOY, :QuarterlyRevenueGrowthYOY, :AnalystTargetPrice, :TrailingPE, :ForwardPE, :PriceToSalesRatioTTM, :PriceToBookRatio, :EVToRevenue, :EVToEBITDA, :Beta, :52WeekHigh, :52WeekLow, :50DayMovingAverage, :200DayMovingAverage, :SharesOutstanding, :DividendDate, :ExDividendDate)\"\n",
    "\n",
    "    try:\n",
    "        conn = sqlite3.connect('LLM.db')\n",
    "        cur = conn.cursor()\n",
    "        cur.execute(stmt, params)\n",
    "    finally:\n",
    "        cur.close()\n",
    "        conn.close()\n",
    "\n",
    "    time.sleep(1)"
   ]
  },
  {
   "cell_type": "code",
   "execution_count": null,
   "id": "df6b22ec-1026-4cae-8df2-9cdbc8413796",
   "metadata": {},
   "outputs": [],
   "source": []
  }
 ],
 "metadata": {
  "kernelspec": {
   "display_name": "Python 3 (ipykernel)",
   "language": "python",
   "name": "python3"
  },
  "language_info": {
   "codemirror_mode": {
    "name": "ipython",
    "version": 3
   },
   "file_extension": ".py",
   "mimetype": "text/x-python",
   "name": "python",
   "nbconvert_exporter": "python",
   "pygments_lexer": "ipython3",
   "version": "3.12.0"
  }
 },
 "nbformat": 4,
 "nbformat_minor": 5
}
