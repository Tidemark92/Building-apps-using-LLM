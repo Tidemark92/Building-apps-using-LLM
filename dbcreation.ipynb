{
 "cells": [
  {
   "cell_type": "code",
   "execution_count": 1,
   "id": "d77d2c13-457f-4a59-8ce4-39a3450fd429",
   "metadata": {},
   "outputs": [],
   "source": [
    "import sqlite3"
   ]
  },
  {
   "cell_type": "code",
   "execution_count": 2,
   "id": "547ad97e-3e96-449f-ac08-58772559e722",
   "metadata": {},
   "outputs": [],
   "source": [
    "#create a database connection\n",
    "conn = sqlite3.connect('LLM.db')"
   ]
  },
  {
   "cell_type": "code",
   "execution_count": 3,
   "id": "fac4900e-5c13-49aa-9ccc-8a33febff0d0",
   "metadata": {},
   "outputs": [],
   "source": [
    "#create a cursor object to excute sql commands\n",
    "cur = conn.cursor()"
   ]
  },
  {
   "cell_type": "code",
   "execution_count": 4,
   "id": "6fb4ccbc-ecc1-45a5-b917-e0127eae9e1c",
   "metadata": {},
   "outputs": [
    {
     "ename": "OperationalError",
     "evalue": "table 'stockTable' already exists",
     "output_type": "error",
     "traceback": [
      "\u001b[0;31m---------------------------------------------------------------------------\u001b[0m",
      "\u001b[0;31mOperationalError\u001b[0m                          Traceback (most recent call last)",
      "Cell \u001b[0;32mIn[4], line 2\u001b[0m\n\u001b[1;32m      1\u001b[0m \u001b[38;5;66;03m#create \"stokcTable\" table\u001b[39;00m\n\u001b[0;32m----> 2\u001b[0m cur\u001b[38;5;241m.\u001b[39mexecute(\u001b[38;5;124m'''\u001b[39m\n\u001b[1;32m      3\u001b[0m \u001b[38;5;124mCREATE TABLE \u001b[39m\u001b[38;5;124m'\u001b[39m\u001b[38;5;124mstockTable\u001b[39m\u001b[38;5;124m'\u001b[39m\u001b[38;5;124m (\u001b[39m\n\u001b[1;32m      4\u001b[0m \u001b[38;5;124m    ticker TEXT DEFAULT NULL,\u001b[39m\n\u001b[1;32m      5\u001b[0m \u001b[38;5;124m    created_at DATETIME DEFAULT NULL,\u001b[39m\n\u001b[1;32m      6\u001b[0m \u001b[38;5;124m    open REAL DEFAULT NULL,\u001b[39m\n\u001b[1;32m      7\u001b[0m \u001b[38;5;124m    high REAL DEFAULT NULL,\u001b[39m\n\u001b[1;32m      8\u001b[0m \u001b[38;5;124m    low REAL DEFAUL NULL,\u001b[39m\n\u001b[1;32m      9\u001b[0m \u001b[38;5;124m    close REAL DEFAULT NULL,\u001b[39m\n\u001b[1;32m     10\u001b[0m \u001b[38;5;124m    volume INTEGER DEFAULT NULL\u001b[39m\n\u001b[1;32m     11\u001b[0m \u001b[38;5;124m)\u001b[39m\n\u001b[1;32m     12\u001b[0m \u001b[38;5;124m'''\u001b[39m)\n",
      "\u001b[0;31mOperationalError\u001b[0m: table 'stockTable' already exists"
     ]
    }
   ],
   "source": [
    "#create \"stokcTable\" table\n",
    "cur.execute('''\n",
    "CREATE TABLE 'stockTable' (\n",
    "    ticker TEXT DEFAULT NULL,\n",
    "    created_at DATETIME DEFAULT NULL,\n",
    "    open REAL DEFAULT NULL,\n",
    "    high REAL DEFAULT NULL,\n",
    "    low REAL DEFAUL NULL,\n",
    "    close REAL DEFAULT NULL,\n",
    "    volume INTEGER DEFAULT NULL\n",
    ")\n",
    "''')"
   ]
  },
  {
   "cell_type": "code",
   "execution_count": 5,
   "id": "eeaa046c-6ad7-4aff-98a3-1773d225f58b",
   "metadata": {},
   "outputs": [
    {
     "ename": "OperationalError",
     "evalue": "table newsSentiment already exists",
     "output_type": "error",
     "traceback": [
      "\u001b[0;31m---------------------------------------------------------------------------\u001b[0m",
      "\u001b[0;31mOperationalError\u001b[0m                          Traceback (most recent call last)",
      "Cell \u001b[0;32mIn[5], line 3\u001b[0m\n\u001b[1;32m      1\u001b[0m \u001b[38;5;66;03m#create newssentment table\u001b[39;00m\n\u001b[0;32m----> 3\u001b[0m cur\u001b[38;5;241m.\u001b[39mexecute(\u001b[38;5;124m'''\u001b[39m\n\u001b[1;32m      4\u001b[0m \u001b[38;5;124mCREATE TABLE newsSentiment(\u001b[39m\n\u001b[1;32m      5\u001b[0m \u001b[38;5;124m    title TEXT,\u001b[39m\n\u001b[1;32m      6\u001b[0m \u001b[38;5;124m    url TEXT,\u001b[39m\n\u001b[1;32m      7\u001b[0m \u001b[38;5;124m    time_published DATETIME,\u001b[39m\n\u001b[1;32m      8\u001b[0m \u001b[38;5;124m    authors TEXT,\u001b[39m\n\u001b[1;32m      9\u001b[0m \u001b[38;5;124m    summary TEXT,\u001b[39m\n\u001b[1;32m     10\u001b[0m \u001b[38;5;124m    banner_image TEXT,\u001b[39m\n\u001b[1;32m     11\u001b[0m \u001b[38;5;124m    source TEXT,\u001b[39m\n\u001b[1;32m     12\u001b[0m \u001b[38;5;124m    category_within_source TEXT,\u001b[39m\n\u001b[1;32m     13\u001b[0m \u001b[38;5;124m    source_domain TEXT\u001b[39m\n\u001b[1;32m     14\u001b[0m \u001b[38;5;124m    topic TEXT,\u001b[39m\n\u001b[1;32m     15\u001b[0m \u001b[38;5;124m    topic_relevance_score TEXT,\u001b[39m\n\u001b[1;32m     16\u001b[0m \u001b[38;5;124m    overall_sentiment_score REAL,\u001b[39m\n\u001b[1;32m     17\u001b[0m \u001b[38;5;124m    overall_sentiment_label TEXT\u001b[39m\n\u001b[1;32m     18\u001b[0m \u001b[38;5;124m)\u001b[39m\n\u001b[1;32m     19\u001b[0m \u001b[38;5;124m'''\u001b[39m)\n",
      "\u001b[0;31mOperationalError\u001b[0m: table newsSentiment already exists"
     ]
    }
   ],
   "source": [
    "#create newssentment table\n",
    "\n",
    "cur.execute('''\n",
    "CREATE TABLE newsSentiment(\n",
    "    title TEXT,\n",
    "    url TEXT,\n",
    "    time_published DATETIME,\n",
    "    authors TEXT,\n",
    "    summary TEXT,\n",
    "    banner_image TEXT,\n",
    "    source TEXT,\n",
    "    category_within_source TEXT,\n",
    "    source_domain TEXT\n",
    "    topic TEXT,\n",
    "    topic_relevance_score TEXT,\n",
    "    overall_sentiment_score REAL,\n",
    "    overall_sentiment_label TEXT\n",
    ")\n",
    "''')"
   ]
  },
  {
   "cell_type": "code",
   "execution_count": 6,
   "id": "2fae9a04-aedf-4cff-8557-97693e261700",
   "metadata": {},
   "outputs": [
    {
     "data": {
      "text/plain": [
       "<sqlite3.Cursor at 0x104506e40>"
      ]
     },
     "execution_count": 6,
     "metadata": {},
     "output_type": "execute_result"
    }
   ],
   "source": [
    "#create embeddings table\n",
    "\n",
    "cur.execute('''\n",
    "CREATE TABLE embeddings (\n",
    "    id INTEGER PRIMARY KEY AUTOINCREMENT,\n",
    "    category TEXT,\n",
    "    question TEXT,\n",
    "    question_embedding BLOB,\n",
    "    answer TEXT,\n",
    "    answer_embedding BLOB,\n",
    "    created_at DATETIME DEFAULT CURRENT_TIMESTAMP\n",
    ")\n",
    "''')"
   ]
  },
  {
   "cell_type": "code",
   "execution_count": 10,
   "id": "d95a3326-31b2-4c89-8bba-d9ca00d9b836",
   "metadata": {},
   "outputs": [
    {
     "data": {
      "text/plain": [
       "<sqlite3.Cursor at 0x104506e40>"
      ]
     },
     "execution_count": 10,
     "metadata": {},
     "output_type": "execute_result"
    }
   ],
   "source": [
    "cur.execute('''\n",
    "SELECT name FROM sqlite_master WHERE type='table';\n",
    "''')"
   ]
  },
  {
   "cell_type": "code",
   "execution_count": 11,
   "id": "bb11e55e-c6df-4d19-b79c-4c891370811d",
   "metadata": {},
   "outputs": [
    {
     "name": "stdout",
     "output_type": "stream",
     "text": [
      "stockTable\n",
      "newsSentiment\n",
      "embeddings\n",
      "sqlite_sequence\n"
     ]
    }
   ],
   "source": [
    "tables = cur.fetchall()\n",
    "for table in tables:\n",
    "    print(table[0])"
   ]
  },
  {
   "cell_type": "code",
   "execution_count": null,
   "id": "d9f203dd-46e8-4052-9de7-5ff4dab994cd",
   "metadata": {},
   "outputs": [],
   "source": []
  }
 ],
 "metadata": {
  "kernelspec": {
   "display_name": "Python 3 (ipykernel)",
   "language": "python",
   "name": "python3"
  },
  "language_info": {
   "codemirror_mode": {
    "name": "ipython",
    "version": 3
   },
   "file_extension": ".py",
   "mimetype": "text/x-python",
   "name": "python",
   "nbconvert_exporter": "python",
   "pygments_lexer": "ipython3",
   "version": "3.11.7"
  }
 },
 "nbformat": 4,
 "nbformat_minor": 5
}
